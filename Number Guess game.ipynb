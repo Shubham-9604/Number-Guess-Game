{
 "cells": [
  {
   "cell_type": "code",
   "execution_count": 13,
   "id": "6d34180a-7bea-4744-899d-ce2ef07ba4c5",
   "metadata": {},
   "outputs": [],
   "source": [
    "import tkinter as tk \n",
    "import random \n",
    "\n",
    "secret_guess = random.randint(1,100)\n",
    "attempts = 0 \n",
    "\n",
    "#create window \n",
    "root = tk.Tk()\n",
    "root.title(\"Guessing Game\")\n",
    "root.geometry(\"500x350\")\n",
    "\n",
    "#create Label\n",
    "label = tk.Label(root,text = \"Guess the number\",font = (\"Arial\",15))\n",
    "label.pack(pady = 10)\n",
    "\n",
    "guess_entry = tk.Entry(root,text=\"Guess number between 1 and 100\",font=(\"Arial\",13))\n",
    "guess_entry.pack(pady = 5)\n",
    "\n",
    "feedback = tk.Label(root,text=\"\",font = (\"Arial\",15))\n",
    "feedback.pack(pady = 5)\n",
    "\n",
    "def logic_guess():\n",
    "    global attempts\n",
    "    try:\n",
    "        guess = int(guess_entry.get())\n",
    "        attempts += 1\n",
    "        if guess < secret_guess:\n",
    "            feedback.config(text = \"Too Low! Try Again.!\")\n",
    "        elif guess > secret_guess:\n",
    "            feedback.config(text = \"Too High! Try Again!.!\")\n",
    "        else: \n",
    "            feedback.config(text = f\"Congrats ! You guess right no.{secret_guess} in {attempts} Tries\")\n",
    "    except ValueError :\n",
    "        feedback.config(text = \"please enter valid number\")\n",
    "\n",
    "# Creating Button \n",
    "button = tk.Button(root, text = \"Submit Guess\",command = logic_guess,font=(\"Arial\",15))\n",
    "button.pack(pady = 5)\n",
    "\n",
    "root.mainloop()\n",
    "\n",
    "\n",
    "                 "
   ]
  },
  {
   "cell_type": "code",
   "execution_count": null,
   "id": "8eeefd28-e811-4400-85e2-7dcdc20e76c4",
   "metadata": {},
   "outputs": [],
   "source": []
  },
  {
   "cell_type": "code",
   "execution_count": null,
   "id": "f5bd394d-769f-458f-8993-ca6ce1091304",
   "metadata": {},
   "outputs": [],
   "source": []
  }
 ],
 "metadata": {
  "kernelspec": {
   "display_name": "Python 3 (ipykernel)",
   "language": "python",
   "name": "python3"
  },
  "language_info": {
   "codemirror_mode": {
    "name": "ipython",
    "version": 3
   },
   "file_extension": ".py",
   "mimetype": "text/x-python",
   "name": "python",
   "nbconvert_exporter": "python",
   "pygments_lexer": "ipython3",
   "version": "3.11.7"
  }
 },
 "nbformat": 4,
 "nbformat_minor": 5
}
